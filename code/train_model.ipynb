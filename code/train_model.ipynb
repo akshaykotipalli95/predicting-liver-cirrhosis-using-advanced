{
 "cells": [
  {
   "cell_type": "code",
   "execution_count": 3,
   "id": "610c1824",
   "metadata": {},
   "outputs": [],
   "source": [
    "import pandas as pd\n",
    "import numpy as np\n",
    "from sklearn.model_selection import train_test_split\n",
    "from sklearn.preprocessing import LabelEncoder, StandardScaler\n",
    "from sklearn.ensemble import RandomForestClassifier\n",
    "from sklearn.metrics import accuracy_score, classification_report\n",
    "import joblib"
   ]
  },
  {
   "cell_type": "code",
   "execution_count": 10,
   "id": "2ce8c35f",
   "metadata": {},
   "outputs": [],
   "source": [
    "# Step 2: Load Dataset\n",
    "df = pd.read_csv(\"ILPD.csv\")\n",
    "\n",
    "# Rename columns if needed\n",
    "df.columns = ['Age', 'Gender', 'TB', 'DB', 'Alkphos', 'Sgpt', 'Sgot', \n",
    "              'TP', 'ALB', 'A/G Ratio', 'Selector']\n",
    "\n",
    "# Convert 'A/G Ratio' to numeric\n",
    "df['A/G Ratio'] = pd.to_numeric(df['A/G Ratio'], errors='coerce')\n",
    "\n",
    "# Fill NaNs in 'A/G Ratio' using future-safe method\n",
    "df.fillna({'A/G Ratio': df['A/G Ratio'].mean()}, inplace=True)\n"
   ]
  },
  {
   "cell_type": "code",
   "execution_count": 11,
   "id": "b77e8c61",
   "metadata": {},
   "outputs": [],
   "source": [
    "# Step 3: Preprocess\n",
    "# Encode Gender\n",
    "df['Gender'] = LabelEncoder().fit_transform(df['Gender'])\n",
    "\n",
    "# Convert 'Selector' to binary target (1 = Liver disease, 0 = No disease)\n",
    "df['Selector'] = df['Selector'].apply(lambda x: 1 if x == 1 else 0)\n"
   ]
  },
  {
   "cell_type": "code",
   "execution_count": 12,
   "id": "2cd299c2",
   "metadata": {},
   "outputs": [],
   "source": [
    "# Step 4: Split features and target\n",
    "X = df.drop('Selector', axis=1)\n",
    "y = df['Selector']\n",
    "\n",
    "# Step 5: Normalize features\n",
    "scaler = StandardScaler()\n",
    "X_scaled = scaler.fit_transform(X)\n"
   ]
  },
  {
   "cell_type": "code",
   "execution_count": 13,
   "id": "fe12a647",
   "metadata": {},
   "outputs": [],
   "source": [
    "# Step 6: Train-Test Split\n",
    "X_train, X_test, y_train, y_test = train_test_split(X_scaled, y, test_size=0.2, random_state=42)\n"
   ]
  },
  {
   "cell_type": "code",
   "execution_count": 14,
   "id": "a116fc6f",
   "metadata": {},
   "outputs": [
    {
     "name": "stdout",
     "output_type": "stream",
     "text": [
      "✅ Accuracy: 0.7350427350427351\n",
      "✅ Classification Report:\n",
      "               precision    recall  f1-score   support\n",
      "\n",
      "           0       0.48      0.37      0.42        30\n",
      "           1       0.80      0.86      0.83        87\n",
      "\n",
      "    accuracy                           0.74       117\n",
      "   macro avg       0.64      0.61      0.62       117\n",
      "weighted avg       0.72      0.74      0.72       117\n",
      "\n"
     ]
    }
   ],
   "source": [
    "# Step 7: Train Random Forest Model\n",
    "model = RandomForestClassifier(n_estimators=100, random_state=42)\n",
    "model.fit(X_train, y_train)\n",
    "\n",
    "# Step 8: Predict and Evaluate\n",
    "y_pred = model.predict(X_test)\n",
    "print(\"✅ Accuracy:\", accuracy_score(y_test, y_pred))\n",
    "print(\"✅ Classification Report:\\n\", classification_report(y_test, y_pred))\n"
   ]
  },
  {
   "cell_type": "code",
   "execution_count": 15,
   "id": "e41ee35b",
   "metadata": {},
   "outputs": [
    {
     "name": "stdout",
     "output_type": "stream",
     "text": [
      "✅ Model and Scaler saved as 'rf_model.pkl' and 'scaler.pkl'\n"
     ]
    }
   ],
   "source": [
    "# Step 9: Save the model and scaler\n",
    "joblib.dump(model, 'rf_model.pkl')\n",
    "joblib.dump(scaler, 'scaler.pkl')\n",
    "\n",
    "print(\"✅ Model and Scaler saved as 'rf_model.pkl' and 'scaler.pkl'\")\n"
   ]
  },
  {
   "cell_type": "code",
   "execution_count": 18,
   "id": "240bc5fe",
   "metadata": {},
   "outputs": [
    {
     "name": "stdout",
     "output_type": "stream",
     "text": [
      "Current working directory: f:\\project\n"
     ]
    }
   ],
   "source": [
    "import os\n",
    "print(\"Current working directory:\", os.getcwd())\n",
    "\n"
   ]
  }
 ],
 "metadata": {
  "kernelspec": {
   "display_name": ".venv",
   "language": "python",
   "name": "python3"
  },
  "language_info": {
   "codemirror_mode": {
    "name": "ipython",
    "version": 3
   },
   "file_extension": ".py",
   "mimetype": "text/x-python",
   "name": "python",
   "nbconvert_exporter": "python",
   "pygments_lexer": "ipython3",
   "version": "3.13.3"
  }
 },
 "nbformat": 4,
 "nbformat_minor": 5
}
